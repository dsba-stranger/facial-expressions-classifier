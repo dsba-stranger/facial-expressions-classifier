{
 "cells": [
  {
   "cell_type": "code",
   "execution_count": 2,
   "id": "fb5fb394",
   "metadata": {},
   "outputs": [],
   "source": [
    "import numpy as np\n",
    "import os\n",
    "from PIL import Image\n",
    "import matplotlib.pyplot as plt\n",
    "import pandas as pd\n",
    "import seaborn as sns"
   ]
  },
  {
   "cell_type": "code",
   "execution_count": 3,
   "id": "51f01de8",
   "metadata": {},
   "outputs": [
    {
     "name": "stderr",
     "output_type": "stream",
     "text": [
      "/var/folders/3j/_8ty5xgj2md7zt6kftlz05hmf593br/T/ipykernel_3116/2035053682.py:17: RuntimeWarning: invalid value encountered in true_divide\n",
      "  image /= np.linalg.norm(image)\n"
     ]
    }
   ],
   "source": [
    "def load_images(path):\n",
    "    classes = os.listdir(path)\n",
    "    df = pd.DataFrame()\n",
    "    \n",
    "    for cls in classes:\n",
    "        cls_path = os.path.join(path, cls)\n",
    "        \n",
    "        if not os.path.isdir(cls_path):\n",
    "            continue\n",
    "        \n",
    "        for file in os.listdir(cls_path):\n",
    "            image_path = os.path.join(path, cls, file)\n",
    "            \n",
    "            if os.path.isfile(image_path):\n",
    "                image = Image.open(image_path)\n",
    "                image = np.asarray(image, dtype=np.double)\n",
    "                image /= np.linalg.norm(image)\n",
    "                df = df.append(pd.Series({'emotion': cls, 'image': image}), ignore_index=True)\n",
    "    \n",
    "    return df\n",
    "    \n",
    "df_train = load_images('data/train')"
   ]
  },
  {
   "cell_type": "code",
   "execution_count": 4,
   "id": "de2ae3ac",
   "metadata": {},
   "outputs": [
    {
     "data": {
      "text/plain": [
       "(28709, 2)"
      ]
     },
     "execution_count": 4,
     "metadata": {},
     "output_type": "execute_result"
    }
   ],
   "source": [
    "df_train.shape"
   ]
  },
  {
   "cell_type": "code",
   "execution_count": 73,
   "id": "fd0a8d96",
   "metadata": {},
   "outputs": [
    {
     "data": {
      "text/plain": [
       "happy       7215\n",
       "neutral     4965\n",
       "sad         4830\n",
       "fear        4097\n",
       "angry       3995\n",
       "surprise    3171\n",
       "disgust      436\n",
       "Name: emotion, dtype: int64"
      ]
     },
     "execution_count": 73,
     "metadata": {},
     "output_type": "execute_result"
    }
   ],
   "source": [
    "df_train['emotion'].value_counts()"
   ]
  },
  {
   "cell_type": "code",
   "execution_count": 74,
   "id": "1f1eb682",
   "metadata": {},
   "outputs": [
    {
     "data": {
      "image/png": "[encoded data removed]",
      "text/plain": [
       "<Figure size 432x288 with 1 Axes>"
      ]
     },
     "metadata": {
      "needs_background": "light"
     },
     "output_type": "display_data"
    }
   ],
   "source": [
    "sns.histplot(df_train['emotion']);"
   ]
  },
  {
   "cell_type": "code",
   "execution_count": 1,
   "id": "88d80902",
   "metadata": {},
   "outputs": [
    {
     "ename": "NameError",
     "evalue": "name 'df_train' is not defined",
     "output_type": "error",
     "traceback": [
      "\u001b[0;31m---------------------------------------------------------------------------\u001b[0m",
      "\u001b[0;31mNameError\u001b[0m                                 Traceback (most recent call last)",
      "\u001b[0;32m/var/folders/3j/_8ty5xgj2md7zt6kftlz05hmf593br/T/ipykernel_3116/1417267344.py\u001b[0m in \u001b[0;36m<module>\u001b[0;34m\u001b[0m\n\u001b[0;32m----> 1\u001b[0;31m \u001b[0mdf_train\u001b[0m\u001b[0;34m.\u001b[0m\u001b[0mhead\u001b[0m\u001b[0;34m(\u001b[0m\u001b[0;36m7\u001b[0m\u001b[0;34m)\u001b[0m\u001b[0;34m\u001b[0m\u001b[0;34m\u001b[0m\u001b[0m\n\u001b[0m",
      "\u001b[0;31mNameError\u001b[0m: name 'df_train' is not defined"
     ]
    }
   ],
   "source": [
    "df_train.head()"
   ]
  },
  {
   "cell_type": "code",
   "execution_count": null,
   "id": "ef48c43b",
   "metadata": {},
   "outputs": [],
   "source": []
  }
 ],
 "metadata": {
  "kernelspec": {
   "display_name": "Python 3 (ipykernel)",
   "language": "python",
   "name": "python3"
  },
  "language_info": {
   "codemirror_mode": {
    "name": "ipython",
    "version": 3
   },
   "file_extension": ".py",
   "mimetype": "text/x-python",
   "name": "python",
   "nbconvert_exporter": "python",
   "pygments_lexer": "ipython3",
   "version": "3.9.7"
  }
 },
 "nbformat": 4,
 "nbformat_minor": 5
}
