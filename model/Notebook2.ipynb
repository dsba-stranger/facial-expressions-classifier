{
 "cells": [
  {
   "cell_type": "code",
   "execution_count": 1,
   "metadata": {},
   "outputs": [],
   "source": [
    "import numpy as np\n",
    "import os\n",
    "from PIL import Image\n",
    "import matplotlib.pyplot as plt\n",
    "import pandas as pd\n",
    "import seaborn as sns\n",
    "import tensorflow as tf\n",
    "from tensorflow.keras import models\n",
    "from tensorflow.keras.layers import Activation, BatchNormalization, Dense, Dropout, Flatten, Conv2D, MaxPool2D\n",
    "from tensorflow.keras.optimizers import RMSprop, Adam\n",
    "from tensorflow.keras.utils import to_categorical"
   ]
  },
  {
   "cell_type": "code",
   "execution_count": 69,
   "metadata": {},
   "outputs": [],
   "source": [
    "tf.config.run_functions_eagerly(True)"
   ]
  },
  {
   "cell_type": "code",
   "execution_count": 14,
   "metadata": {},
   "outputs": [],
   "source": [
    "IMG_SIZE = 48"
   ]
  },
  {
   "cell_type": "code",
   "execution_count": 54,
   "metadata": {},
   "outputs": [],
   "source": [
    "from tensorflow.keras.callbacks import EarlyStopping, ModelCheckpoint\n",
    "\n",
    "def callback_func(modelName):\n",
    "  checkpoint = ModelCheckpoint(f\"Checkpoints/{modelName}.h5\", monitor = \"val_accuracy\", save_best_only = True, mode = \"auto\", verbose = 1)\n",
    "  early_stopping = EarlyStopping(monitor = \"val_accuracy\", patience = 10, verbose = 1)\n",
    "  callbacks = [early_stopping, checkpoint]\n",
    "  return callbacks"
   ]
  },
  {
   "cell_type": "code",
   "execution_count": 23,
   "metadata": {},
   "outputs": [],
   "source": [
    "def load_dataframe(path):\n",
    "    classes = os.listdir(path)\n",
    "    df = pd.DataFrame()\n",
    "    \n",
    "    for cls in classes:\n",
    "        cls_path = os.path.join(path, cls)\n",
    "        \n",
    "        if not os.path.isdir(cls_path):\n",
    "            continue\n",
    "            \n",
    "        for file in os.listdir(cls_path):\n",
    "            image_path = os.path.join(path, cls, file)\n",
    "            \n",
    "            if os.path.isfile(image_path):\n",
    "                image = Image.open(image_path)\n",
    "                image = np.asarray(image, dtype=np.double)\n",
    "                image /= 255\n",
    "                df = df.append(pd.Series({'emotion': cls, 'image': image}), ignore_index=True)\n",
    "    \n",
    "    return df"
   ]
  },
  {
   "cell_type": "code",
   "execution_count": 5,
   "metadata": {},
   "outputs": [],
   "source": [
    "def split_dataframe(df, rate=0.8):\n",
    "    mask = np.random.rand(len(df)) < rate\n",
    "    return df[mask], df[~mask]"
   ]
  },
  {
   "cell_type": "code",
   "execution_count": 59,
   "metadata": {},
   "outputs": [],
   "source": [
    "def preprocess_dataframe(df):    \n",
    "    X = np.apply_along_axis(lambda row: row.tolist(), 0, df.image.values)\n",
    "    y = df.emotion.apply(lambda emo: EMOTIONS_MAP[emo]).values.reshape(-1, 1)\n",
    "    return X, y"
   ]
  },
  {
   "cell_type": "code",
   "execution_count": 115,
   "metadata": {},
   "outputs": [],
   "source": [
    "def plot_distributions(array1, array2, title1='', title2=''):\n",
    "    df_array1 = pd.DataFrame()\n",
    "    df_array2 = pd.DataFrame()\n",
    "    df_array1['emotion'] = array1.argmax(axis=1)\n",
    "    df_array2['emotion'] = array2.argmax(axis=1)\n",
    "    \n",
    "    fig, axs = plt.subplots(1, 2, figsize=(12, 6), sharey=False)\n",
    "    x = EMOTIONS_MAP.keys()\n",
    "    \n",
    "    y = df_array1['emotion'].value_counts()\n",
    "    keys_missed = list(set(EMOTIONS_MAP.values()).difference(set(y.keys())))\n",
    "    for key_missed in keys_missed:\n",
    "        y[key_missed] = 0\n",
    "    axs[0].bar(x, y.sort_index(), color='orange')\n",
    "    axs[0].set_title(title1)\n",
    "    axs[0].grid()\n",
    "    \n",
    "    y = df_array2['emotion'].value_counts()\n",
    "    keys_missed = list(set(EMOTIONS_MAP.values()).difference(set(y.keys())))\n",
    "    for key_missed in keys_missed:\n",
    "        y[key_missed] = 0\n",
    "    axs[1].bar(x, y.sort_index())\n",
    "    axs[1].set_title(title2)\n",
    "    axs[1].grid()\n",
    "    \n",
    "    plt.show()"
   ]
  },
  {
   "cell_type": "code",
   "execution_count": 112,
   "metadata": {},
   "outputs": [],
   "source": [
    "def plot_predicted(images, emotions, y_pred, index):\n",
    "    fig, axs = plt.subplots(1, 2, figsize=(12, 6), sharey=False)\n",
    "    \n",
    "    bar_label = list(EMOTIONS_MAP.keys())\n",
    "    \n",
    "    axs[0].imshow(images[index], 'gray')\n",
    "    axs[0].set_title(bar_label[np.where(emotions[index] == 1)[0][0]])\n",
    "    \n",
    "    axs[1].bar(bar_label, y_pred[index], color='orange', alpha=0.7)\n",
    "    axs[1].grid()\n",
    "    \n",
    "    plt.show()"
   ]
  },
  {
   "cell_type": "code",
   "execution_count": 24,
   "metadata": {},
   "outputs": [],
   "source": [
    "df_train = load_dataframe('data/train')\n",
    "df_test, df_validation = split_dataframe(load_dataframe('data/test'))"
   ]
  },
  {
   "cell_type": "code",
   "execution_count": 127,
   "metadata": {},
   "outputs": [
    {
     "data": {
      "text/plain": [
       "{'angry': 0,\n",
       " 'disgust': 1,\n",
       " 'fear': 2,\n",
       " 'happy': 3,\n",
       " 'neutral': 4,\n",
       " 'sad': 5,\n",
       " 'surprise': 6}"
      ]
     },
     "execution_count": 127,
     "metadata": {},
     "output_type": "execute_result"
    }
   ],
   "source": [
    "EMOTIONS_MAP = {emotion: i for i, emotion in enumerate(df_train.emotion.unique())}\n",
    "EMOTIONS_MAP"
   ]
  },
  {
   "cell_type": "code",
   "execution_count": 60,
   "metadata": {},
   "outputs": [],
   "source": [
    "X_train, y_train = preprocess_dataframe(df_train)\n",
    "X_test, y_test = preprocess_dataframe(df_test)\n",
    "X_validation, y_validation = preprocess_dataframe(df_validation)"
   ]
  },
  {
   "cell_type": "code",
   "execution_count": 64,
   "metadata": {},
   "outputs": [],
   "source": [
    "y_train = to_categorical(y_train)\n",
    "y_test = to_categorical(y_test)\n",
    "y_validation = to_categorical(y_validation)"
   ]
  },
  {
   "cell_type": "code",
   "execution_count": 65,
   "metadata": {},
   "outputs": [
    {
     "data": {
      "text/plain": [
       "((28709, 48, 48),\n",
       " (28709, 7),\n",
       " (5732, 48, 48),\n",
       " (5732, 7),\n",
       " (1446, 48, 48),\n",
       " (1446, 7))"
      ]
     },
     "execution_count": 65,
     "metadata": {},
     "output_type": "execute_result"
    }
   ],
   "source": [
    "X_train.shape, y_train.shape, X_test.shape, y_test.shape, X_validation.shape, y_validation.shape"
   ]
  },
  {
   "cell_type": "code",
   "execution_count": 118,
   "metadata": {},
   "outputs": [
    {
     "data": {
      "image/png": "[encoded data removed]",
      "text/plain": [
       "<Figure size 864x432 with 2 Axes>"
      ]
     },
     "metadata": {
      "needs_background": "light"
     },
     "output_type": "display_data"
    }
   ],
   "source": [
    "plot_distributions(y_train, y_test, 'Train', 'Test')"
   ]
  },
  {
   "cell_type": "code",
   "execution_count": 119,
   "metadata": {},
   "outputs": [
    {
     "data": {
      "image/png": "[encoded data removed]",
      "text/plain": [
       "<Figure size 864x432 with 2 Axes>"
      ]
     },
     "metadata": {
      "needs_background": "light"
     },
     "output_type": "display_data"
    }
   ],
   "source": [
    "plot_distributions(y_train, y_validation, 'Train', 'Validation')"
   ]
  },
  {
   "cell_type": "code",
   "execution_count": 49,
   "metadata": {},
   "outputs": [
    {
     "data": {
      "text/plain": [
       "{0: 0.1391549688251071,\n",
       " 1: 0.01518687519593159,\n",
       " 2: 0.14270786164617366,\n",
       " 3: 0.2513149186666202,\n",
       " 4: 0.17294228290779895,\n",
       " 5: 0.16823992476226968,\n",
       " 6: 0.11045316799609878}"
      ]
     },
     "execution_count": 49,
     "metadata": {},
     "output_type": "execute_result"
    }
   ],
   "source": [
    "class_weight = dict(zip(range(0, 7), (((df_train['emotion'].value_counts()).sort_index())/len(df_train['emotion'])).tolist()))\n",
    "class_weight"
   ]
  },
  {
   "cell_type": "code",
   "execution_count": 50,
   "metadata": {},
   "outputs": [],
   "source": [
    "model = models.Sequential()\n",
    "\n",
    "model.add(Conv2D(64, (3, 3), padding='same', activation='relu', input_shape=(48, 48, 1)))\n",
    "model.add(Dropout(0.25))\n",
    "\n",
    "model.add(MaxPool2D((2, 2)))\n",
    "model.add(Conv2D(64, (3, 3), padding='same', activation='relu'))\n",
    "model.add(Dropout(0.25))\n",
    "\n",
    "model.add(MaxPool2D((2, 2)))\n",
    "model.add(Conv2D(128, (3, 3), padding='same', activation='relu'))\n",
    "model.add(Dropout(0.25))\n",
    "\n",
    "model.add(MaxPool2D((2, 2)))\n",
    "model.add(Conv2D(256, (3, 3), padding='same', activation='relu'))\n",
    "model.add(Dropout(0.25))\n",
    "\n",
    "model.add(MaxPool2D((2, 2)))\n",
    "model.add(Flatten())\n",
    "model.add(Dense(256, activation='relu'))\n",
    "model.add(Dense(128, activation='relu'))\n",
    "model.add(Dropout(0.25))\n",
    "\n",
    "model.add(Dense(7, activation='softmax'))"
   ]
  },
  {
   "cell_type": "code",
   "execution_count": 51,
   "metadata": {},
   "outputs": [
    {
     "name": "stdout",
     "output_type": "stream",
     "text": [
      "Model: \"sequential\"\n",
      "_________________________________________________________________\n",
      " Layer (type)                Output Shape              Param #   \n",
      "=================================================================\n",
      " conv2d (Conv2D)             (None, 48, 48, 64)        640       \n",
      "                                                                 \n",
      " dropout (Dropout)           (None, 48, 48, 64)        0         \n",
      "                                                                 \n",
      " max_pooling2d (MaxPooling2D  (None, 24, 24, 64)       0         \n",
      " )                                                               \n",
      "                                                                 \n",
      " conv2d_1 (Conv2D)           (None, 24, 24, 64)        36928     \n",
      "                                                                 \n",
      " dropout_1 (Dropout)         (None, 24, 24, 64)        0         \n",
      "                                                                 \n",
      " max_pooling2d_1 (MaxPooling  (None, 12, 12, 64)       0         \n",
      " 2D)                                                             \n",
      "                                                                 \n",
      " conv2d_2 (Conv2D)           (None, 12, 12, 128)       73856     \n",
      "                                                                 \n",
      " dropout_2 (Dropout)         (None, 12, 12, 128)       0         \n",
      "                                                                 \n",
      " max_pooling2d_2 (MaxPooling  (None, 6, 6, 128)        0         \n",
      " 2D)                                                             \n",
      "                                                                 \n",
      " conv2d_3 (Conv2D)           (None, 6, 6, 256)         295168    \n",
      "                                                                 \n",
      " dropout_3 (Dropout)         (None, 6, 6, 256)         0         \n",
      "                                                                 \n",
      " max_pooling2d_3 (MaxPooling  (None, 3, 3, 256)        0         \n",
      " 2D)                                                             \n",
      "                                                                 \n",
      " flatten (Flatten)           (None, 2304)              0         \n",
      "                                                                 \n",
      " dense (Dense)               (None, 256)               590080    \n",
      "                                                                 \n",
      " dense_1 (Dense)             (None, 128)               32896     \n",
      "                                                                 \n",
      " dropout_4 (Dropout)         (None, 128)               0         \n",
      "                                                                 \n",
      " dense_2 (Dense)             (None, 7)                 903       \n",
      "                                                                 \n",
      "=================================================================\n",
      "Total params: 1,030,471\n",
      "Trainable params: 1,030,471\n",
      "Non-trainable params: 0\n",
      "_________________________________________________________________\n"
     ]
    }
   ],
   "source": [
    "model.summary()"
   ]
  },
  {
   "cell_type": "code",
   "execution_count": 52,
   "metadata": {},
   "outputs": [],
   "source": [
    "model.compile(optimizer=Adam(learning_rate=1e-3), loss='categorical_crossentropy', metrics=['accuracy'])"
   ]
  },
  {
   "cell_type": "code",
   "execution_count": 71,
   "metadata": {},
   "outputs": [
    {
     "name": "stdout",
     "output_type": "stream",
     "text": [
      "Epoch 1/50\n"
     ]
    },
    {
     "name": "stderr",
     "output_type": "stream",
     "text": [
      "C:\\Users\\kirill-korolev\\AppData\\Roaming\\Python\\Python38\\site-packages\\tensorflow\\python\\data\\ops\\structured_function.py:264: UserWarning: Even though the `tf.config.experimental_run_functions_eagerly` option is set, this option does not apply to tf.data functions. To force eager execution of tf.data functions, please use `tf.data.experimental.enable_debug_mode()`.\n",
      "  warnings.warn(\n"
     ]
    },
    {
     "name": "stdout",
     "output_type": "stream",
     "text": [
      "449/449 [==============================] - ETA: 0s - loss: 0.2753 - accuracy: 0.2953\n",
      "Epoch 1: val_accuracy improved from -inf to 0.39557, saving model to Checkpoints\\C1.h5\n",
      "449/449 [==============================] - 309s 689ms/step - loss: 0.2753 - accuracy: 0.2953 - val_loss: 1.5949 - val_accuracy: 0.3956\n",
      "Epoch 2/50\n",
      "449/449 [==============================] - ETA: 0s - loss: 0.2300 - accuracy: 0.4207\n",
      "Epoch 2: val_accuracy improved from 0.39557 to 0.45574, saving model to Checkpoints\\C1.h5\n",
      "449/449 [==============================] - 291s 649ms/step - loss: 0.2300 - accuracy: 0.4207 - val_loss: 1.4385 - val_accuracy: 0.4557\n",
      "Epoch 3/50\n",
      "449/449 [==============================] - ETA: 0s - loss: 0.2105 - accuracy: 0.4701\n",
      "Epoch 3: val_accuracy improved from 0.45574 to 0.47994, saving model to Checkpoints\\C1.h5\n",
      "449/449 [==============================] - 288s 640ms/step - loss: 0.2105 - accuracy: 0.4701 - val_loss: 1.4024 - val_accuracy: 0.4799\n",
      "Epoch 4/50\n",
      "449/449 [==============================] - ETA: 0s - loss: 0.1974 - accuracy: 0.5098\n",
      "Epoch 4: val_accuracy improved from 0.47994 to 0.49931, saving model to Checkpoints\\C1.h5\n",
      "449/449 [==============================] - 283s 631ms/step - loss: 0.1974 - accuracy: 0.5098 - val_loss: 1.3116 - val_accuracy: 0.4993\n",
      "Epoch 5/50\n",
      "449/449 [==============================] - ETA: 0s - loss: 0.1885 - accuracy: 0.5312\n",
      "Epoch 5: val_accuracy improved from 0.49931 to 0.54495, saving model to Checkpoints\\C1.h5\n",
      "449/449 [==============================] - 284s 631ms/step - loss: 0.1885 - accuracy: 0.5312 - val_loss: 1.2127 - val_accuracy: 0.5450\n",
      "Epoch 6/50\n",
      "449/449 [==============================] - ETA: 0s - loss: 0.1816 - accuracy: 0.5506\n",
      "Epoch 6: val_accuracy improved from 0.54495 to 0.55256, saving model to Checkpoints\\C1.h5\n",
      "449/449 [==============================] - 275s 613ms/step - loss: 0.1816 - accuracy: 0.5506 - val_loss: 1.2073 - val_accuracy: 0.5526\n",
      "Epoch 7/50\n",
      "449/449 [==============================] - ETA: 0s - loss: 0.1748 - accuracy: 0.5668\n",
      "Epoch 7: val_accuracy did not improve from 0.55256\n",
      "449/449 [==============================] - 284s 633ms/step - loss: 0.1748 - accuracy: 0.5668 - val_loss: 1.1932 - val_accuracy: 0.5519\n",
      "Epoch 8/50\n",
      "449/449 [==============================] - ETA: 0s - loss: 0.1674 - accuracy: 0.5855\n",
      "Epoch 8: val_accuracy improved from 0.55256 to 0.55947, saving model to Checkpoints\\C1.h5\n",
      "449/449 [==============================] - 283s 629ms/step - loss: 0.1674 - accuracy: 0.5855 - val_loss: 1.1695 - val_accuracy: 0.5595\n",
      "Epoch 9/50\n",
      "449/449 [==============================] - ETA: 0s - loss: 0.1640 - accuracy: 0.5925\n",
      "Epoch 9: val_accuracy improved from 0.55947 to 0.58299, saving model to Checkpoints\\C1.h5\n",
      "449/449 [==============================] - 282s 628ms/step - loss: 0.1640 - accuracy: 0.5925 - val_loss: 1.1195 - val_accuracy: 0.5830\n",
      "Epoch 10/50\n",
      "449/449 [==============================] - ETA: 0s - loss: 0.1580 - accuracy: 0.6109\n",
      "Epoch 10: val_accuracy did not improve from 0.58299\n",
      "449/449 [==============================] - 276s 614ms/step - loss: 0.1580 - accuracy: 0.6109 - val_loss: 1.1121 - val_accuracy: 0.5775\n",
      "Epoch 11/50\n",
      "449/449 [==============================] - ETA: 0s - loss: 0.1528 - accuracy: 0.6206\n",
      "Epoch 11: val_accuracy improved from 0.58299 to 0.58437, saving model to Checkpoints\\C1.h5\n",
      "449/449 [==============================] - 280s 625ms/step - loss: 0.1528 - accuracy: 0.6206 - val_loss: 1.1025 - val_accuracy: 0.5844\n",
      "Epoch 12/50\n",
      "449/449 [==============================] - ETA: 0s - loss: 0.1484 - accuracy: 0.6299\n",
      "Epoch 12: val_accuracy did not improve from 0.58437\n",
      "449/449 [==============================] - 284s 633ms/step - loss: 0.1484 - accuracy: 0.6299 - val_loss: 1.1101 - val_accuracy: 0.5809\n",
      "Epoch 13/50\n",
      "449/449 [==============================] - ETA: 0s - loss: 0.1436 - accuracy: 0.6435\n",
      "Epoch 13: val_accuracy improved from 0.58437 to 0.58921, saving model to Checkpoints\\C1.h5\n",
      "449/449 [==============================] - 284s 633ms/step - loss: 0.1436 - accuracy: 0.6435 - val_loss: 1.0905 - val_accuracy: 0.5892\n",
      "Epoch 14/50\n",
      "449/449 [==============================] - ETA: 0s - loss: 0.1401 - accuracy: 0.6530\n",
      "Epoch 14: val_accuracy improved from 0.58921 to 0.60166, saving model to Checkpoints\\C1.h5\n",
      "449/449 [==============================] - 281s 626ms/step - loss: 0.1401 - accuracy: 0.6530 - val_loss: 1.0746 - val_accuracy: 0.6017\n",
      "Epoch 15/50\n",
      "449/449 [==============================] - ETA: 0s - loss: 0.1353 - accuracy: 0.6634\n",
      "Epoch 15: val_accuracy improved from 0.60166 to 0.60927, saving model to Checkpoints\\C1.h5\n",
      "449/449 [==============================] - 280s 624ms/step - loss: 0.1353 - accuracy: 0.6634 - val_loss: 1.0675 - val_accuracy: 0.6093\n",
      "Epoch 16/50\n",
      "449/449 [==============================] - ETA: 0s - loss: 0.1313 - accuracy: 0.6727\n",
      "Epoch 16: val_accuracy did not improve from 0.60927\n",
      "449/449 [==============================] - 280s 624ms/step - loss: 0.1313 - accuracy: 0.6727 - val_loss: 1.0745 - val_accuracy: 0.5864\n",
      "Epoch 17/50\n",
      "449/449 [==============================] - ETA: 0s - loss: 0.1281 - accuracy: 0.6804\n",
      "Epoch 17: val_accuracy did not improve from 0.60927\n",
      "449/449 [==============================] - 283s 631ms/step - loss: 0.1281 - accuracy: 0.6804 - val_loss: 1.0842 - val_accuracy: 0.5927\n",
      "Epoch 18/50\n",
      "449/449 [==============================] - ETA: 0s - loss: 0.1225 - accuracy: 0.6946\n",
      "Epoch 18: val_accuracy did not improve from 0.60927\n",
      "449/449 [==============================] - 283s 630ms/step - loss: 0.1225 - accuracy: 0.6946 - val_loss: 1.0561 - val_accuracy: 0.5996\n",
      "Epoch 19/50\n",
      "449/449 [==============================] - ETA: 0s - loss: 0.1204 - accuracy: 0.7003\n",
      "Epoch 19: val_accuracy did not improve from 0.60927\n",
      "449/449 [==============================] - 288s 642ms/step - loss: 0.1204 - accuracy: 0.7003 - val_loss: 1.0675 - val_accuracy: 0.6037\n",
      "Epoch 20/50\n",
      "449/449 [==============================] - ETA: 0s - loss: 0.1163 - accuracy: 0.7083\n",
      "Epoch 20: val_accuracy did not improve from 0.60927\n",
      "449/449 [==============================] - 292s 650ms/step - loss: 0.1163 - accuracy: 0.7083 - val_loss: 1.1043 - val_accuracy: 0.5712\n",
      "Epoch 21/50\n",
      "449/449 [==============================] - ETA: 0s - loss: 0.1131 - accuracy: 0.7180\n",
      "Epoch 21: val_accuracy did not improve from 0.60927\n",
      "449/449 [==============================] - 296s 660ms/step - loss: 0.1131 - accuracy: 0.7180 - val_loss: 1.0597 - val_accuracy: 0.6017\n",
      "Epoch 22/50\n",
      "449/449 [==============================] - ETA: 0s - loss: 0.1096 - accuracy: 0.7250\n",
      "Epoch 22: val_accuracy did not improve from 0.60927\n",
      "449/449 [==============================] - 297s 662ms/step - loss: 0.1096 - accuracy: 0.7250 - val_loss: 1.0728 - val_accuracy: 0.6044\n",
      "Epoch 23/50\n",
      "449/449 [==============================] - ETA: 0s - loss: 0.1077 - accuracy: 0.7283\n",
      "Epoch 23: val_accuracy did not improve from 0.60927\n",
      "449/449 [==============================] - 297s 661ms/step - loss: 0.1077 - accuracy: 0.7283 - val_loss: 1.0789 - val_accuracy: 0.5968\n",
      "Epoch 24/50\n",
      "449/449 [==============================] - ETA: 0s - loss: 0.1034 - accuracy: 0.7414\n",
      "Epoch 24: val_accuracy did not improve from 0.60927\n",
      "449/449 [==============================] - 296s 660ms/step - loss: 0.1034 - accuracy: 0.7414 - val_loss: 1.0981 - val_accuracy: 0.6030\n",
      "Epoch 25/50\n",
      "449/449 [==============================] - ETA: 0s - loss: 0.1012 - accuracy: 0.7445\n",
      "Epoch 25: val_accuracy did not improve from 0.60927\n",
      "449/449 [==============================] - 297s 662ms/step - loss: 0.1012 - accuracy: 0.7445 - val_loss: 1.0802 - val_accuracy: 0.6003\n",
      "Epoch 25: early stopping\n"
     ]
    }
   ],
   "source": [
    "history = model.fit(X_train, y_train,\n",
    "                    validation_data=(X_validation, y_validation),\n",
    "                    callbacks=callback_func('C1'),\n",
    "                    class_weight = class_weight,\n",
    "                    epochs=50,\n",
    "                    batch_size=64)"
   ]
  },
  {
   "cell_type": "code",
   "execution_count": 72,
   "metadata": {},
   "outputs": [
    {
     "name": "stdout",
     "output_type": "stream",
     "text": [
      "898/898 [==============================] - 104s 116ms/step - loss: 0.5836 - accuracy: 0.8274\n",
      "Training Accuracy: 82.7440857887268\n",
      "\n",
      "\n",
      "180/180 [==============================] - 22s 119ms/step - loss: 1.1748 - accuracy: 0.5843\n",
      "Testing Accuracy: 58.4263801574707\n",
      "\n",
      "\n",
      "46/46 [==============================] - 5s 115ms/step - loss: 1.0802 - accuracy: 0.6003\n",
      "Validation Accuracy: 60.02766489982605\n"
     ]
    }
   ],
   "source": [
    "train_loss, train_acc = model.evaluate(X_train, y_train)\n",
    "print('Training Accuracy:', train_acc*100)\n",
    "print('\\n')\n",
    "\n",
    "test_loss, test_acc = model.evaluate(X_test, y_test)\n",
    "print('Testing Accuracy:', test_acc*100)\n",
    "print('\\n')\n",
    "\n",
    "val_loss, val_acc = model.evaluate(X_validation, y_validation)\n",
    "print('Validation Accuracy:', val_acc*100)"
   ]
  },
  {
   "cell_type": "code",
   "execution_count": 74,
   "metadata": {},
   "outputs": [],
   "source": [
    "y_pred = model.predict(X_test)"
   ]
  },
  {
   "cell_type": "code",
   "execution_count": 76,
   "metadata": {},
   "outputs": [
    {
     "data": {
      "image/png": "[encoded data removed]",
      "text/plain": [
       "<Figure size 432x288 with 1 Axes>"
      ]
     },
     "metadata": {
      "needs_background": "light"
     },
     "output_type": "display_data"
    }
   ],
   "source": [
    "loss = history.history['loss']\n",
    "loss_val = history.history['val_loss']\n",
    "epochs = range(1, len(loss)+1)\n",
    "plt.plot(epochs, loss, 'bo', label='loss_train')\n",
    "plt.plot(epochs, loss_val, 'b', label='loss_val')\n",
    "plt.title('Loss Function')\n",
    "plt.xlabel('epochs')\n",
    "plt.legend()\n",
    "plt.grid()\n",
    "plt.show()"
   ]
  },
  {
   "cell_type": "code",
   "execution_count": 77,
   "metadata": {},
   "outputs": [
    {
     "data": {
      "image/png": "[encoded data removed]",
      "text/plain": [
       "<Figure size 432x288 with 1 Axes>"
      ]
     },
     "metadata": {
      "needs_background": "light"
     },
     "output_type": "display_data"
    }
   ],
   "source": [
    "acc = history.history['accuracy']\n",
    "acc_val = history.history['val_accuracy']\n",
    "epochs = range(1, len(loss)+1)\n",
    "plt.plot(epochs, acc, 'bo', label='accuracy_train')\n",
    "plt.plot(epochs, acc_val, 'b', label='accuracy_val')\n",
    "plt.title('Accuracy')\n",
    "plt.xlabel('epochs')\n",
    "plt.legend()\n",
    "plt.grid()\n",
    "plt.show()"
   ]
  },
  {
   "cell_type": "code",
   "execution_count": 113,
   "metadata": {},
   "outputs": [
    {
     "data": {
      "image/png": "[encoded data removed]",
      "text/plain": [
       "<Figure size 864x432 with 2 Axes>"
      ]
     },
     "metadata": {
      "needs_background": "light"
     },
     "output_type": "display_data"
    }
   ],
   "source": [
    "plot_predicted(X_test, y_test, y_pred, 21)"
   ]
  },
  {
   "cell_type": "code",
   "execution_count": 114,
   "metadata": {},
   "outputs": [
    {
     "data": {
      "image/png": "[encoded data removed]",
      "text/plain": [
       "<Figure size 864x432 with 2 Axes>"
      ]
     },
     "metadata": {
      "needs_background": "light"
     },
     "output_type": "display_data"
    }
   ],
   "source": [
    "plot_predicted(X_test, y_test, y_pred, 960)"
   ]
  },
  {
   "cell_type": "code",
   "execution_count": 117,
   "metadata": {},
   "outputs": [
    {
     "data": {
      "image/png": "[encoded data removed]",
      "text/plain": [
       "<Figure size 864x432 with 2 Axes>"
      ]
     },
     "metadata": {
      "needs_background": "light"
     },
     "output_type": "display_data"
    }
   ],
   "source": [
    "plot_distributions(y_test, y_pred, 'Test', 'Predicted')"
   ]
  },
  {
   "cell_type": "code",
   "execution_count": 121,
   "metadata": {},
   "outputs": [
    {
     "name": "stdout",
     "output_type": "stream",
     "text": [
      "INFO:tensorflow:Assets written to: bin/model\\assets\n"
     ]
    }
   ],
   "source": [
    "model.save('bin/model')"
   ]
  },
  {
   "cell_type": "code",
   "execution_count": 170,
   "metadata": {},
   "outputs": [
    {
     "data": {
      "text/plain": [
       "<matplotlib.image.AxesImage at 0x1a351fcef10>"
      ]
     },
     "execution_count": 170,
     "metadata": {},
     "output_type": "execute_result"
    },
    {
     "data": {
      "image/png": "[encoded data removed]",
      "text/plain": [
       "<Figure size 432x288 with 1 Axes>"
      ]
     },
     "metadata": {
      "needs_background": "light"
     },
     "output_type": "display_data"
    }
   ],
   "source": [
    "from skimage.transform import resize\n",
    "\n",
    "image = np.asarray(Image.open('C:/Users/kirill-korolev/Pictures/yan.jpg').convert('L'), dtype=np.double)\n",
    "image /= 255\n",
    "N = min(image.shape[0], image.shape[1])\n",
    "image = image[:N, :N]\n",
    "plt.imshow(resize(image, (48, 48)), cmap='gray')"
   ]
  },
  {
   "cell_type": "code",
   "execution_count": null,
   "metadata": {},
   "outputs": [],
   "source": []
  }
 ],
 "metadata": {
  "kernelspec": {
   "display_name": "Python 3",
   "language": "python",
   "name": "python3"
  },
  "language_info": {
   "codemirror_mode": {
    "name": "ipython",
    "version": 3
   },
   "file_extension": ".py",
   "mimetype": "text/x-python",
   "name": "python",
   "nbconvert_exporter": "python",
   "pygments_lexer": "ipython3",
   "version": "3.8.5"
  }
 },
 "nbformat": 4,
 "nbformat_minor": 4
}
